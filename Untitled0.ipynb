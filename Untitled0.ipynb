{
  "cells": [
    {
      "cell_type": "markdown",
      "metadata": {
        "id": "view-in-github",
        "colab_type": "text"
      },
      "source": [
        "<a href=\"https://colab.research.google.com/github/Devanshi2545/01-Mini-Project-Subset-Selection-Problem/blob/main/Untitled0.ipynb\" target=\"_parent\"><img src=\"https://colab.research.google.com/assets/colab-badge.svg\" alt=\"Open In Colab\"/></a>"
      ]
    },
    {
      "cell_type": "code",
      "execution_count": 1,
      "metadata": {
        "colab": {
          "base_uri": "https://localhost:8080/"
        },
        "id": "3PWLG_i5lWrw",
        "outputId": "e0271b10-3872-4e05-f8d8-5f17312b7ab4"
      },
      "outputs": [
        {
          "output_type": "stream",
          "name": "stdout",
          "text": [
            "[11, 12, 13, 14, 15, 50, 60]\n",
            "[12, 14, 15, 50, 60]\n",
            "[12, 14, 15, 50, 60]\n",
            "[60, 50, 15, 14, 12]\n",
            "False\n",
            "139\n",
            "136\n",
            "15\n",
            "[]\n"
          ]
        }
      ],
      "source": [
        "#question1\n",
        "L=[11,12,13,14,15]\n",
        "L.append(50)\n",
        "L.append(60)\n",
        "print(L)\n",
        "del L[0]\n",
        "del L[1]\n",
        "print(L)\n",
        "L.sort()\n",
        "print(L)\n",
        "L.sort(reverse=True)\n",
        "print(L)\n",
        "print(13 in L)\n",
        "i=0\n",
        "s=0\n",
        "for i in range(0,4):\n",
        "   s=L[i]+s\n",
        "print(s)\n",
        "i=0\n",
        "s=0\n",
        "f=0\n",
        "for i in range(0,5):\n",
        "    if(L[i]%2==0):\n",
        "      s=L[i]+s\n",
        "    else:\n",
        "      f=L[i]+f\n",
        "print(s)\n",
        "print(f)\n",
        "L.clear()\n",
        "print(L)\n",
        "del L"
      ]
    },
    {
      "cell_type": "markdown",
      "metadata": {
        "id": "OYFMbIBImyL1"
      },
      "source": [
        "q2"
      ]
    },
    {
      "cell_type": "code",
      "execution_count": 2,
      "metadata": {
        "colab": {
          "base_uri": "https://localhost:8080/"
        },
        "id": "Te46kZySldbm",
        "outputId": "bf48af00-6b4f-4a18-cc20-23c8d0e09e73"
      },
      "outputs": [
        {
          "output_type": "stream",
          "name": "stdout",
          "text": [
            "{1: 5.6, 2: 7.8, 3: 6.6, 4: 8.7, 5: 7.7, 8: 8.8}\n",
            "{1: 5.6, 3: 6.6, 4: 8.7, 5: 7.7, 8: 8.8}\n",
            "False\n",
            "5\n",
            "37.4\n",
            "{1: 5.6, 3: 7.1, 4: 8.7, 5: 7.7, 8: 8.8}\n",
            "{}\n"
          ]
        }
      ],
      "source": [
        "D={1:5.6,2:7.8,3:6.6,4:8.7,5:7.7}\n",
        "D[8]=8.8\n",
        "print(D)\n",
        "del D[2]\n",
        "print(D)\n",
        "print(6 in D)\n",
        "f=0\n",
        "for s in D:\n",
        "   f=f+1\n",
        "print(f)\n",
        "f=0\n",
        "for s in D:\n",
        "   f=f+D[s]\n",
        "print(f)\n",
        "D[3]=7.1\n",
        "print(D)\n",
        "D.clear()\n",
        "print(D)"
      ]
    },
    {
      "cell_type": "markdown",
      "metadata": {
        "id": "ls6lGWhLu1JH"
      },
      "source": [
        "q3"
      ]
    },
    {
      "cell_type": "code",
      "execution_count": null,
      "metadata": {
        "colab": {
          "base_uri": "https://localhost:8080/"
        },
        "id": "9JuBJjN9lds6",
        "outputId": "a4e5bec3-947f-4878-bce7-8b13643b6e50"
      },
      "outputs": [
        {
          "name": "stdout",
          "output_type": "stream",
          "text": [
            "{66, 40, 50, 20, 55, 60}\n",
            "True\n",
            "{66, 70, 40, 80, 50, 20, 55, 90, 60}\n",
            "{66, 70, 40, 80, 50, 20, 55, 90, 60}\n",
            "{40, 50, 60}\n"
          ]
        }
      ],
      "source": [
        "S1=set([10,20,30,40,50,60])\n",
        "S2=set([40,50,60,70,80,90])\n",
        "S1.add(55)\n",
        "S1.add(66)\n",
        "S1.remove(10)\n",
        "S1.remove(30)\n",
        "print(S1)\n",
        "print(40 in S1)\n",
        "print(S1.union(S2))\n",
        "print(S1.intersection(S2))\n",
        "print(S1-S2)"
      ]
    },
    {
      "cell_type": "markdown",
      "metadata": {
        "id": "39YGLJDWzzRD"
      },
      "source": [
        "q4"
      ]
    },
    {
      "cell_type": "code",
      "execution_count": null,
      "metadata": {
        "colab": {
          "base_uri": "https://localhost:8080/"
        },
        "id": "0boo3fyLld5W",
        "outputId": "12db0504-799d-486b-a287-4977d77bbe25"
      },
      "outputs": [
        {
          "name": "stdout",
          "output_type": "stream",
          "text": [
            "abcdefghijklmnopqrstuvwxyzABCDEFGHIJKLMNOPQRSTUVWXYZ\n",
            "gjxKdi\n",
            "uWrfde\n",
            "rQcJup\n",
            "rEHoKl\n",
            "TqDCNQ\n",
            "Hghiew\n",
            "CwNeGo\n",
            "AzWkRT\n",
            "CvarwG\n",
            "LpJjbV\n",
            "IxPYak\n",
            "XPqDYO\n",
            "UtQSCE\n",
            "HAgBef\n",
            "kTSMeh\n",
            "vWKXpq\n",
            "AyMOYU\n",
            "pWzYCK\n",
            "jPLVhI\n",
            "VufIHU\n",
            "IwyUsE\n",
            "tKPyXm\n",
            "lXGOiN\n",
            "VFwtKu\n",
            "BOgIAQ\n",
            "ugGznX\n",
            "nuhPOY\n",
            "PTUnGM\n",
            "VzaQtr\n",
            "jVZXGF\n",
            "lwOzXK\n",
            "aspmHB\n",
            "kYNzfh\n",
            "zpFrJR\n",
            "ijobDV\n",
            "KBYOVJ\n",
            "IDHAfY\n",
            "uwQWZN\n",
            "CFtgNz\n",
            "XvzOgG\n",
            "jrYdxl\n",
            "hrUAOD\n",
            "QtcYOD\n",
            "uiQLOd\n",
            "oTdKqA\n",
            "NtbqkM\n",
            "lmgJYo\n",
            "kinTGl\n",
            "jPDTdE\n",
            "QUGPwN\n",
            "NjSqME\n",
            "DSmheH\n",
            "pOvICJ\n",
            "hEJOfP\n",
            "hCcHWF\n",
            "MvqcTd\n",
            "mnDTfy\n",
            "kydJRt\n",
            "BZHWaq\n",
            "NKFanE\n",
            "MhtvJU\n",
            "ibJZom\n",
            "sEOptC\n",
            "lFkERr\n",
            "udNWxo\n",
            "prFqTf\n",
            "xcYASO\n",
            "psnPvA\n",
            "BiZqIA\n",
            "EKWJCa\n",
            "CdiPXc\n",
            "bKDcLk\n",
            "SArTVB\n",
            "srBGIP\n",
            "xLompC\n",
            "SKLUgY\n",
            "AWyieh\n",
            "PxhRDC\n",
            "AjSXqf\n",
            "NOiecH\n",
            "qmZOpz\n",
            "fJNpVe\n",
            "GvJWuF\n",
            "nvuXbG\n",
            "uIDtLk\n",
            "PFqOQB\n",
            "htGYHU\n",
            "rwLATY\n",
            "ohbHrL\n",
            "UqJmgl\n",
            "CXgopV\n",
            "KdGquy\n",
            "ePFzfK\n",
            "IavWBA\n",
            "PcZUev\n",
            "uOQckB\n",
            "GpuUqQ\n",
            "IwRkjb\n",
            "dRNWhE\n",
            "fZzRqw\n",
            "CyAoFn\n"
          ]
        }
      ],
      "source": [
        "import string as s\n",
        "import random as r\n",
        "print(s.ascii_letters)\n",
        "for i in range(0,101):\n",
        "  a=r.sample(s.ascii_letters,6)\n",
        "  print(\"\".join(a))"
      ]
    },
    {
      "cell_type": "code",
      "execution_count": null,
      "metadata": {
        "colab": {
          "base_uri": "https://localhost:8080/"
        },
        "id": "EYvMZiWk4Pv_",
        "outputId": "8e5ed8b6-81cf-43c5-8e69-4f5c0c2c45cc"
      },
      "outputs": [
        {
          "name": "stdout",
          "output_type": "stream",
          "text": [
            "601\n",
            "607\n",
            "613\n",
            "617\n",
            "619\n",
            "631\n",
            "641\n",
            "643\n",
            "647\n",
            "653\n",
            "659\n",
            "661\n",
            "673\n",
            "677\n",
            "683\n",
            "691\n",
            "701\n",
            "709\n",
            "719\n",
            "727\n",
            "733\n",
            "739\n",
            "743\n",
            "751\n",
            "757\n",
            "761\n",
            "769\n",
            "773\n",
            "787\n",
            "797\n"
          ]
        }
      ],
      "source": [
        "for i in range(600,800):\n",
        "   f=0\n",
        "   for x in range(2,i//2+1):\n",
        "      if(i%x==0):\n",
        "        f=1\n",
        "        break\n",
        "   if(f==0):\n",
        "     print(i)"
      ]
    },
    {
      "cell_type": "code",
      "execution_count": null,
      "metadata": {
        "colab": {
          "base_uri": "https://localhost:8080/"
        },
        "id": "meva7vgN5ER9",
        "outputId": "b754ecae-e810-4de4-a8b1-165deeadafc3"
      },
      "outputs": [
        {
          "name": "stdout",
          "output_type": "stream",
          "text": [
            "126\n",
            "189\n",
            "252\n",
            "315\n",
            "378\n",
            "441\n",
            "504\n",
            "567\n",
            "630\n",
            "693\n",
            "756\n",
            "819\n",
            "882\n",
            "945\n"
          ]
        }
      ],
      "source": [
        "for i in range (100,1001):\n",
        "    if(i%7==0 and i%9==0):\n",
        "         print(i)"
      ]
    },
    {
      "cell_type": "markdown",
      "metadata": {
        "id": "fEL4aaY92K7V"
      },
      "source": [
        "q5"
      ]
    },
    {
      "cell_type": "code",
      "execution_count": null,
      "metadata": {
        "colab": {
          "base_uri": "https://localhost:8080/"
        },
        "id": "79pOUIzv5iqy",
        "outputId": "70866b97-1997-4313-eb7b-52f27756c367"
      },
      "outputs": [
        {
          "name": "stdout",
          "output_type": "stream",
          "text": [
            "[25, 21, 23, 19, 27, 18, 20, 12, 11, 17]\n",
            "[14, 24, 19, 27, 13, 20, 26, 29, 17, 30]\n",
            "{27, 17, 19, 20}\n",
            "30\n",
            "11\n",
            "{11, 12, 13, 14, 18, 21, 23, 24, 25, 26, 29, 30}\n",
            "412\n"
          ]
        }
      ],
      "source": [
        "import string as s1\n",
        "import string as s2\n",
        "import random as r\n",
        "s1=set()\n",
        "s2=set()\n",
        "a=r.sample(range(10,31),10)\n",
        "b=r.sample(range(10,31),10) \n",
        "print(a)\n",
        "print(b)\n",
        "for i in a:\n",
        "   for j in b:\n",
        "      if(i==j):\n",
        "        s1.add(i)\n",
        "        break\n",
        "print(s1)\n",
        "\n",
        "c=a+b\n",
        "print(max(c))\n",
        "print(min(c))\n",
        "for i in c:\n",
        "   s2.add(i)\n",
        "print(s2-s1)\n",
        "print(sum(c))\n",
        "s1.clear()"
      ]
    },
    {
      "cell_type": "markdown",
      "metadata": {
        "id": "qjk0qOhk5jWL"
      },
      "source": [
        "q6"
      ]
    },
    {
      "cell_type": "code",
      "execution_count": null,
      "metadata": {
        "colab": {
          "base_uri": "https://localhost:8080/"
        },
        "id": "Tm7lKhi9rwyR",
        "outputId": "53f9e31d-7ccc-4992-8e15-bbea0a5faaa9"
      },
      "outputs": [
        {
          "name": "stdout",
          "output_type": "stream",
          "text": [
            "[192, 514, 292, 399, 674, 646, 570, 729, 287, 217, 289, 361, 868, 375, 686, 828, 394, 870, 122, 696, 571, 362, 850, 758, 337, 263, 704, 282, 134, 237, 432, 161, 183, 483, 614, 889, 331, 354, 732, 137, 682, 329, 438, 385, 859, 472, 176, 553, 105, 256, 348, 620, 895, 866, 185, 182, 518, 541, 536, 802, 713, 144, 766, 607, 563, 308, 449, 751, 171, 212, 821, 743, 684, 139, 402, 244, 770, 498, 275, 816, 400, 390, 560, 533, 835, 240, 842, 601, 155, 299, 612, 878, 890, 233, 479, 552, 367, 848, 633, 824]\n",
            "even 30350\n",
            "odd 44\n",
            "prime 8792\n"
          ]
        }
      ],
      "source": [
        "import random as r\n",
        "a=r.sample(range(100,901),100)\n",
        "print(a)\n",
        "k=0\n",
        "f=0\n",
        "m=0\n",
        "t=0\n",
        "for i in a:\n",
        "  if(i%2==0):\n",
        "    k=k+i\n",
        "  else:\n",
        "    f=f+1\n",
        "\n",
        "print(\"even\",k)\n",
        "print(\"odd\",f)\n",
        "for i in a:\n",
        "  m=0\n",
        "  for x in range(2,i//2+1):\n",
        "      if(i%x==0):\n",
        "        m=1\n",
        "        break\n",
        "  if(m==0):\n",
        "     t=t+i\n",
        "print(\"prime\",t)"
      ]
    },
    {
      "cell_type": "markdown",
      "metadata": {
        "id": "MalFF996rxH5"
      },
      "source": [
        "q7"
      ]
    },
    {
      "cell_type": "code",
      "execution_count": null,
      "metadata": {
        "colab": {
          "base_uri": "https://localhost:8080/"
        },
        "id": "vTDLiidA8mXn",
        "outputId": "01bc4d1e-3ce3-4ebe-c87e-1f6cf82e82d8"
      },
      "outputs": [
        {
          "name": "stdout",
          "output_type": "stream",
          "text": [
            "[1, 2, 3, 4, 5]\n",
            "['ONE', 'TWO', 'THREE', 'FOUR', 'FIVE']\n",
            "writing done!\n"
          ]
        }
      ],
      "source": [
        "D={1:\"ONE\",2:\"TWO\",3:\"THREE\",4:\"FOUR\",5:\"FIVE\"}\n",
        "print(list(D.keys()))\n",
        "print(list(D.values()))\n",
        "fp=open(\"aashima.txt\",\"w\")\n",
        "for i in D:\n",
        "   fp.write(str(i)+\",\"+str(D[i])+\"\\n\")\n",
        "fp.close()\n",
        "print(\"writing done!\")"
      ]
    },
    {
      "cell_type": "markdown",
      "metadata": {
        "id": "UbbBYjBByEqt"
      },
      "source": [
        "q8"
      ]
    },
    {
      "cell_type": "code",
      "execution_count": null,
      "metadata": {
        "colab": {
          "base_uri": "https://localhost:8080/"
        },
        "id": "BA6HZEa2yF6x",
        "outputId": "c19b49e4-ddd5-46ec-f54f-4395b11dcb44"
      },
      "outputs": [
        {
          "name": "stdout",
          "output_type": "stream",
          "text": [
            "writing done!\n"
          ]
        }
      ],
      "source": [
        "L=[\"ONE\",\"TWO\",\"THREE\",\"FOUR\",\"FIVE\"]\n",
        "fp=open(\"aashimaa.txt\",\"w\")\n",
        "for i in L:\n",
        "   fp.write(str(i)+\",\"+str(len(i))+\"\\n\")\n",
        "fp.close()\n",
        "print(\"writing done!\")"
      ]
    },
    {
      "cell_type": "markdown",
      "metadata": {
        "id": "jO_PZ4m_1jsK"
      },
      "source": [
        "q9"
      ]
    },
    {
      "cell_type": "code",
      "execution_count": null,
      "metadata": {
        "colab": {
          "base_uri": "https://localhost:8080/"
        },
        "id": "EqMQ5KEd1lGV",
        "outputId": "be625ed9-e489-4cad-9872-412873db0b77"
      },
      "outputs": [
        {
          "name": "stdout",
          "output_type": "stream",
          "text": [
            "writing done!\n"
          ]
        }
      ],
      "source": [
        "import random as r\n",
        "import string as s\n",
        "fp=open(\"aashima123.txt\",\"w\")\n",
        "for i in range(1,101):\n",
        "     k=r.randint(10,15)\n",
        "     l=r.sample((s.ascii_letters),k)\n",
        "     m=\"\".join(l)\n",
        "     fp.write(str(m)+\"\\n\")\n",
        "fp.close()\n",
        "print(\"writing done!\")"
      ]
    },
    {
      "cell_type": "markdown",
      "metadata": {
        "id": "vwnSZyhM4i5C"
      },
      "source": [
        "q10"
      ]
    },
    {
      "cell_type": "code",
      "execution_count": null,
      "metadata": {
        "colab": {
          "base_uri": "https://localhost:8080/"
        },
        "id": "RpQ9yBXg4kYT",
        "outputId": "055c3a0b-2c73-4fd3-c13f-fad5abb2b281"
      },
      "outputs": [
        {
          "name": "stdout",
          "output_type": "stream",
          "text": [
            "done writing\n"
          ]
        }
      ],
      "source": [
        "fp=open(\"gargaashima.txt\",\"w\")\n",
        "for i in range(600,801):\n",
        "  t=0\n",
        "  for x in range(2,i//2+1):\n",
        "    if(i%x==0):\n",
        "      t=1\n",
        "      break\n",
        "  if(t==0):\n",
        "    fp.write(str(i)+\",\")\n",
        "fp.close()\n",
        "print(\"done writing\")"
      ]
    },
    {
      "cell_type": "markdown",
      "metadata": {
        "id": "0AkBVr_Y6NF2"
      },
      "source": [
        "q11"
      ]
    },
    {
      "cell_type": "code",
      "execution_count": null,
      "metadata": {
        "colab": {
          "base_uri": "https://localhost:8080/"
        },
        "id": "qy03I1On6ONm",
        "outputId": "b1f7b433-6f32-48ca-83ec-a5631e8cf979"
      },
      "outputs": [
        {
          "name": "stdout",
          "output_type": "stream",
          "text": [
            "done writing\n",
            "2.494997634\n"
          ]
        }
      ],
      "source": [
        "import time\n",
        "fp=open(\"gargaashima.txt\",\"w\")\n",
        "for i in range(600,801):\n",
        "  t=0\n",
        "  for x in range(2,i//2+1):\n",
        "    if(i%x==0):\n",
        "      t=1\n",
        "      break\n",
        "  if(t==0):\n",
        "    fp.write(str(i)+\",\")\n",
        "fp.close()\n",
        "print(\"done writing\")\n",
        "print(time.process_time())"
      ]
    },
    {
      "cell_type": "markdown",
      "metadata": {
        "id": "lv3tzVTRnP0J"
      },
      "source": [
        "q12"
      ]
    },
    {
      "cell_type": "code",
      "execution_count": null,
      "metadata": {
        "colab": {
          "base_uri": "https://localhost:8080/",
          "height": 282
        },
        "id": "WoP_bpVonRDd",
        "outputId": "4eec8811-5052-45cc-b169-7f778f7efc71"
      },
      "outputs": [
        {
          "data": {
            "text/plain": [
              "[<matplotlib.lines.Line2D at 0x7fd686491dd0>]"
            ]
          },
          "execution_count": 2,
          "metadata": {},
          "output_type": "execute_result"
        },
        {
          "data": {
            "image/png": "[encoded data removed]",
            "text/plain": [
              "<Figure size 432x288 with 1 Axes>"
            ]
          },
          "metadata": {},
          "output_type": "display_data"
        }
      ],
      "source": [
        "import matplotlib.pyplot as p\n",
        "import time\n",
        "L=[]\n",
        "for i in range(0,50000):\n",
        "    L.append(i)\n",
        "    T1=time.process_time()\n",
        "for i in range(0,100000):\n",
        "    L.append(i)\n",
        "    T2=time.process_time()\n",
        "for i in range(0,150000):\n",
        "    L.append(i)\n",
        "    T3=time.process_time()\n",
        "for i in range(0,200000):\n",
        "    L.append(i)\n",
        "    T4=time.process_time()\n",
        "for i in range(0,2500000):\n",
        "    L.append(i)\n",
        "    T5=time.process_time()\n",
        "X=[50000,100000,150000,200000,250000]\n",
        "Y=[T1,T2,T3,T4,T5]\n",
        "p.plot(X,Y)"
      ]
    },
    {
      "cell_type": "markdown",
      "metadata": {
        "id": "gFTynrMunVlG"
      },
      "source": [
        "q13"
      ]
    },
    {
      "cell_type": "code",
      "execution_count": null,
      "metadata": {
        "colab": {
          "base_uri": "https://localhost:8080/"
        },
        "id": "NtL6NjFPnWYZ",
        "outputId": "586a4498-2aaa-4c19-a79f-a4ff089dc0a4"
      },
      "outputs": [
        {
          "name": "stdout",
          "output_type": "stream",
          "text": [
            "min 5\n",
            "max 4\n"
          ]
        }
      ],
      "source": [
        "Std={1:[10,20,30,40,50],2:[20,20,20,20,20],3:[30,30,30,30],4:[40,40,40,40,50],5:[10,10,10,10,10]}\n",
        "Min=sum(Std[1])/5\n",
        "Max=Min\n",
        "F=Min\n",
        "P=Max\n",
        "for i in Std:\n",
        "    k=sum(Std[i])/5\n",
        "    if(Min>k):\n",
        "       Min=k\n",
        "       F=i\n",
        "    if(Max<k):\n",
        "       Max=k\n",
        "       P=i\n",
        "print(\"min\",F)\n",
        "print(\"max\",P)"
      ]
    },
    {
      "cell_type": "markdown",
      "metadata": {
        "id": "cFN1axNVnc8p"
      },
      "source": [
        "CHALLANGE QUESTION"
      ]
    },
    {
      "cell_type": "code",
      "execution_count": null,
      "metadata": {
        "colab": {
          "base_uri": "https://localhost:8080/"
        },
        "id": "HKvZsXyAnglQ",
        "outputId": "86834c57-6f47-4f83-d4ba-26a801be5343"
      },
      "outputs": [
        {
          "output_type": "stream",
          "name": "stdout",
          "text": [
            "[1, 2, 3]\n",
            "['Ram', 'Shyam', 'Aman']\n",
            "[1, 2, 3, 'Aman', 'Ram', 'Shyam']\n"
          ]
        }
      ],
      "source": [
        "# from collections import defaultdict\n",
        "# L=[\"RAM\",1,\"SHYAM\",2,\"AMAN\",3]\n",
        "# L1=[]\n",
        "# L2=[]\n",
        "# print(L)\n",
        "# result=defaultdict(list)\n",
        "# for i in L:\n",
        "#   result[type(i)].append(i)\n",
        "\n",
        "# L1.append(result[int])\n",
        "# L1.sort()\n",
        "# L2.append(result[str])\n",
        "# L2.sort()\n",
        "# print(L1+L2)\n",
        "L = [\"Ram\", 1, \"Shyam\", 2, \"Aman\", 3]\n",
        "l1 = [i for i in L if type(i)==int]\n",
        "l2 = [i for i in L if type(i)==str]\n",
        "\n",
        "print(l1)\n",
        "print(l2)\n",
        "l1.sort()\n",
        "l2.sort()\n",
        "L = l1+l2\n",
        "print(L)\n"
      ]
    },
    {
      "cell_type": "markdown",
      "metadata": {
        "id": "Lb45kwWN8o2y"
      },
      "source": [
        "MINI PROJECT1"
      ]
    },
    {
      "cell_type": "code",
      "execution_count": null,
      "metadata": {
        "colab": {
          "base_uri": "https://localhost:8080/"
        },
        "id": "nJWBR7ObsGcT",
        "outputId": "7989d3bc-554c-42cb-9fbd-c6d30e516e9e"
      },
      "outputs": [
        {
          "name": "stdout",
          "output_type": "stream",
          "text": [
            "(-6, -5, -2, 2, 11)\n",
            "(-8, -3, -2, 6, 7)\n",
            "(-8, -6, 1, 6, 7)\n",
            "(-7, -6, -5, 7, 11)\n",
            "(-12, -7, 2, 6, 11)\n",
            "(-12, -5, 2, 6, 9)\n",
            "(-12, -6, 3, 6, 9)\n",
            "(-9, -6, -2, 6, 11)\n",
            "(-6, -3, -2, 2, 9)\n",
            "(-9, -4, -3, 7, 9)\n",
            "(-8, -4, 1, 2, 9)\n",
            "(-9, -8, 1, 7, 9)\n",
            "(-8, -6, -4, 7, 11)\n",
            "(-7, -5, -2, 3, 11)\n",
            "(-8, -4, 2, 3, 7)\n",
            "(-5, -4, -3, 3, 9)\n",
            "(-8, -7, -2, 6, 11)\n",
            "(-6, -3, 1, 2, 6)\n",
            "(-9, -3, 1, 2, 9)\n",
            "(-8, -6, -2, 7, 9)\n",
            "(-6, -4, -2, 3, 9)\n",
            "(-6, -5, -3, 3, 11)\n",
            "(-6, -4, -3, 2, 11)\n",
            "(-7, -2, 1, 2, 6)\n",
            "(-12, 1, 2, 3, 6)\n",
            "(-4, -3, -2, 3, 6)\n",
            "(-6, -5, -4, 6, 9)\n",
            "(-9, -5, 1, 6, 7)\n",
            "(-12, -7, 3, 7, 9)\n",
            "(-6, -5, -2, 6, 7)\n",
            "(-7, -4, -2, 6, 7)\n",
            "(-7, -4, 1, 3, 7)\n",
            "(-7, -6, -3, 7, 9)\n",
            "(-12, -6, -2, 9, 11)\n",
            "(-7, -4, -3, 3, 11)\n",
            "(-12, -8, 2, 7, 11)\n",
            "(-12, -5, 1, 7, 9)\n",
            "(-6, -5, 1, 3, 7)\n",
            "(-6, -4, 1, 3, 6)\n",
            "(-9, -4, -2, 6, 9)\n",
            "(-7, -5, 1, 2, 9)\n",
            "(-8, -7, 1, 3, 11)\n",
            "(-12, -4, 2, 3, 11)\n",
            "(-9, -8, 2, 6, 9)\n",
            "(-12, -4, 3, 6, 7)\n",
            "(-7, -5, -3, 6, 9)\n",
            "(-8, -7, 2, 6, 7)\n",
            "(-4, -3, -2, 2, 7)\n",
            "(-12, -2, 1, 6, 7)\n",
            "(-7, -3, 1, 2, 7)\n",
            "(-9, -3, -2, 3, 11)\n",
            "(-9, -7, -4, 9, 11)\n",
            "(-7, -4, 2, 3, 6)\n",
            "(-7, -6, -4, 6, 11)\n",
            "(-8, -7, -5, 9, 11)\n",
            "(-7, -6, 1, 3, 9)\n",
            "(-8, -6, 2, 3, 9)\n",
            "(-9, -7, -2, 7, 11)\n",
            "(-8, -6, 1, 2, 11)\n",
            "(-12, -6, 2, 7, 9)\n",
            "(-8, -3, 1, 3, 7)\n",
            "(-12, -9, 3, 7, 11)\n",
            "(-12, -6, 1, 6, 11)\n",
            "(-6, -4, 1, 2, 7)\n",
            "(-8, -5, -2, 6, 9)\n",
            "(-8, -4, -3, 6, 9)\n",
            "(-12, -4, 1, 6, 9)\n",
            "(-9, -7, 3, 6, 7)\n",
            "(-8, -2, 1, 2, 7)\n",
            "(-12, -5, -3, 9, 11)\n",
            "(-5, -4, -3, 1, 11)\n",
            "(-8, -6, -3, 6, 11)\n",
            "(-6, -5, 2, 3, 6)\n",
            "(-8, -5, -4, 6, 11)\n",
            "(-4, -2, 1, 2, 3)\n",
            "(-9, -7, 2, 3, 11)\n",
            "(-9, -2, 2, 3, 6)\n",
            "(-7, -3, -2, 1, 11)\n",
            "(-5, -4, 1, 2, 6)\n",
            "(-12, -9, 1, 9, 11)\n",
            "(-7, -3, -2, 3, 9)\n",
            "(-9, -6, -5, 9, 11)\n",
            "(-12, -3, -2, 6, 11)\n",
            "(-5, -3, -2, 3, 7)\n",
            "(-9, -2, 1, 3, 7)\n",
            "(-9, -4, 1, 3, 9)\n",
            "(-12, -7, 1, 7, 11)\n",
            "(-8, -3, -2, 2, 11)\n",
            "(-5, -3, -2, 1, 9)\n",
            "(-12, -3, 1, 3, 11)\n",
            "(-12, -8, 3, 6, 11)\n",
            "(-5, -4, -2, 2, 9)\n",
            "(-9, -6, 2, 6, 7)\n",
            "(-8, -5, -3, 7, 9)\n",
            "(-8, -3, 2, 3, 6)\n",
            "(-12, -4, -2, 7, 11)\n",
            "(-12, -3, 2, 6, 7)\n",
            "(-9, -6, 1, 3, 11)\n",
            "(-7, -5, -4, 7, 9)\n",
            "(-9, -7, 1, 6, 9)\n",
            "(-9, -5, 2, 3, 9)\n",
            "(-7, -3, 1, 3, 6)\n",
            "(-12, -2, 2, 3, 9)\n",
            "(-9, -5, 1, 2, 11)\n",
            "(-12, -2, 1, 2, 11)\n",
            "(-7, -6, -2, 6, 9)\n",
            "total 106\n"
          ]
        }
      ],
      "source": [
        "import random as r\n",
        "s=set([-12,-3,-6,7,2,-2,6,3,9,-7,-5,-8,1,11,-9,-4])\n",
        "s1=set()\n",
        "k=0\n",
        "for i in range (1,10000):\n",
        "   a=r.sample(s,5)\n",
        "   a.sort()\n",
        "   if sum(a)==0:\n",
        "     s1.add(tuple(a))\n",
        "for r in s1:\n",
        "  print(r)\n",
        "print(\"total\",len(s1))"
      ]
    },
    {
      "cell_type": "markdown",
      "metadata": {
        "id": "I-2XyBSyrg5F"
      },
      "source": [
        "MINI PROJECT 1 PART2"
      ]
    },
    {
      "cell_type": "code",
      "execution_count": null,
      "metadata": {
        "colab": {
          "base_uri": "https://localhost:8080/"
        },
        "id": "e-ce1_LNrlQU",
        "outputId": "dc9dbcb9-296b-4ecc-941b-727689772672"
      },
      "outputs": [
        {
          "name": "stdout",
          "output_type": "stream",
          "text": [
            "(-4, -2, 6)\n",
            "(-8, -7, -6, 1, 9, 11)\n",
            "(-8, -3, -2, 6, 7)\n",
            "(-12, -6, 7, 11)\n",
            "(-12, -7, 2, 6, 11)\n",
            "(-9, -2, 11)\n",
            "(-7, -4, -3, 1, 2, 11)\n",
            "(-7, -2, 9)\n",
            "(-8, -6, -4, 1, 6, 11)\n",
            "(-9, 3, 6)\n",
            "(-9, -4, -2, 1, 3, 11)\n",
            "(-6, -4, 1, 3, 6)\n",
            "(-8, -5, -3, -2, 7, 11)\n",
            "(-4, -3, -2, 9)\n",
            "(-7, -3, 3, 7)\n",
            "(-9, -4, 6, 7)\n",
            "(-12, -5, -4, 1, 9, 11)\n",
            "(-5, -4, -3, 3, 9)\n",
            "(-8, 1, 7)\n",
            "(-3, -2, 2, 3)\n",
            "(-8, -5, 1, 3, 9)\n",
            "(-8, -4, 3, 9)\n",
            "(-9, -5, 3, 11)\n",
            "(-4, -3, 7)\n",
            "(-12, 1, 11)\n",
            "(-9, -5, 2, 3, 9)\n",
            "(-8, 2, 6)\n",
            "(-7, -2, 2, 7)\n",
            "total 28\n"
          ]
        }
      ],
      "source": [
        "import random as r\n",
        "s=set([-12,-3,-6,7,2,-2,6,3,9,-7,-5,-8,1,11,-9,-4])\n",
        "s1=set()\n",
        "iterate=1000\n",
        "UL=6\n",
        "LL=3\n",
        "k=0\n",
        "for i in range (1,iterate):\n",
        "   s2=r.randint(LL,UL)\n",
        "   a=r.sample(s,s2)\n",
        "   a.sort()\n",
        "   if sum(a)==0:\n",
        "     s1.add(tuple(a))\n",
        "for r in s1:\n",
        "  print(r)\n",
        "print(\"total\",len(s1))"
      ]
    },
    {
      "cell_type": "markdown",
      "metadata": {
        "id": "RzDoe3FDtK8Z"
      },
      "source": [
        "MINI PROJECT 2"
      ]
    },
    {
      "cell_type": "code",
      "execution_count": null,
      "metadata": {
        "colab": {
          "base_uri": "https://localhost:8080/"
        },
        "id": "eIrBPPRcwOwG",
        "outputId": "02fc86f9-9794-499e-f7ac-67ab8b2aa142"
      },
      "outputs": [
        {
          "name": "stdout",
          "output_type": "stream",
          "text": [
            "('p1', 'p3', 'p4', 'p5', 'p6', 'p7', 'p8')\n",
            "('p1', 'p2', 'p3', 'p4', 'p5', 'p7', 'p9')\n",
            "('p1', 'p2', 'p3', 'p7', 'p8', 'p9')\n",
            "('p3', 'p5', 'p7', 'p8', 'p9')\n",
            "('p2', 'p3', 'p4', 'p5', 'p8', 'p9')\n",
            "('p1', 'p3', 'p5', 'p6', 'p7', 'p9')\n",
            "('p2', 'p3', 'p5', 'p6', 'p7', 'p9')\n",
            "('p1', 'p3', 'p4', 'p6', 'p8', 'p9')\n",
            "('p1', 'p2', 'p3', 'p4', 'p5', 'p8', 'p9')\n",
            "('p2', 'p4', 'p5', 'p6', 'p7', 'p8', 'p9')\n",
            "('p2', 'p3', 'p4', 'p6', 'p8', 'p9')\n",
            "('p3', 'p4', 'p7', 'p8', 'p9')\n",
            "('p1', 'p2', 'p4', 'p5', 'p6', 'p7', 'p8', 'p9')\n",
            "('p2', 'p3', 'p4', 'p6', 'p7', 'p9')\n",
            "('p2', 'p3', 'p5', 'p6', 'p8', 'p9')\n",
            "('p1', 'p2', 'p3', 'p5', 'p6', 'p7', 'p8')\n",
            "('p3', 'p4', 'p5', 'p6', 'p7', 'p9')\n",
            "('p1', 'p3', 'p4', 'p5', 'p8', 'p9')\n",
            "('p1', 'p2', 'p3', 'p4', 'p6', 'p7', 'p9')\n",
            "('p2', 'p3', 'p7', 'p8', 'p9')\n",
            "('p2', 'p3', 'p4', 'p5', 'p6', 'p7', 'p8')\n",
            "('p3', 'p4', 'p5', 'p6', 'p7', 'p8')\n",
            "('p1', 'p2', 'p3', 'p5', 'p6', 'p7', 'p9')\n",
            "('p3', 'p5', 'p6', 'p8', 'p9')\n",
            "24\n"
          ]
        }
      ],
      "source": [
        "import random as r\n",
        "PRODUCTLIST={'p1':10, 'p2':15, 'p3':90, 'p4':25, 'p5':30, 'p6':35, 'p7':50,'p8':60,'p9':78}\n",
        "s1=set()\n",
        "ll=290\n",
        "ul=310\n",
        "iteration=1000\n",
        "for i in range(0,iteration):\n",
        "  s2=r.randint(2,len(PRODUCTLIST)-1)\n",
        "  combo=r.sample(list(PRODUCTLIST.keys()),s2)\n",
        "  combo.sort()\n",
        "  summ=sum([PRODUCTLIST[i] for i in combo])\n",
        "  if summ>=ll and summ<=ul:\n",
        "    s1.add(tuple(combo))\n",
        "for i in s1:\n",
        "  print(i)\n",
        "print(len(s1))\n"
      ]
    }
  ],
  "metadata": {
    "colab": {
      "collapsed_sections": [],
      "name": "Untitled0.ipynb",
      "provenance": [],
      "include_colab_link": true
    },
    "kernelspec": {
      "display_name": "Python 3",
      "name": "python3"
    },
    "language_info": {
      "name": "python"
    }
  },
  "nbformat": 4,
  "nbformat_minor": 0
}